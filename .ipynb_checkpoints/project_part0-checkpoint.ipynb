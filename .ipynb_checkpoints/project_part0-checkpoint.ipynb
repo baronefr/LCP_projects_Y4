{
 "cells": [
  {
   "cell_type": "markdown",
   "metadata": {},
   "source": [
    "# Implementation and optimization of the mean-timer technique in drift tube detectors\n",
    "\n",
    "## part 0 of LCP project\n",
    "\n",
    "#### Students: Barone Francesco Pio, Lorenzo, Nagaro G., Ninni Daniele, "
   ]
  },
  {
   "cell_type": "markdown",
   "metadata": {},
   "source": [
    "# Assignment\n",
    "\n",
    "Group the hits (rows) by orbits, identify and create events, excluding the external trigger information (for the moment). An event must be a collection of hits expressed in terms of coordinates (chamber, layer, cell) and position within the cell (with the left-right ambiguity NOT resolved).\n",
    "Verify graphically that the hits in the events align in a pattern similar to the one displayed in the picture above (just few events, for validation purposes)."
   ]
  },
  {
   "cell_type": "markdown",
   "metadata": {},
   "source": [
    "# Dataset\n",
    "\\\n",
    "HEAD: always 1 (useless)\\\n",
    "FPGA: 0 or 1\\\n",
    "TDC_CHANNEL: in the range 1-128, special values are present too (137, 138, 139)\\\n",
    "ORB_CNT: in the range 0-2^32\\\n",
    "BX: in the range 0-3564\\\n",
    "TDC_MEAS: in the range 1-30\\\n",
    "\\\n",
    "\\\n",
    "Detector 1 \\\n",
    "FPGA 0, TDC_CHANNEL in [1-64]\\\n",
    "\\\n",
    "Detector 2\\\n",
    "FPGA 0, TDC_CHANNEL in [65-128]\\\n",
    "\\\n",
    "Detector 3\\\n",
    "FPGA 1, TDC_CHANNEL in [1-64]\\\n",
    "\\\n",
    "Detector 4\\\n",
    "FPGA 1, TDC_CHANNEL in [65-128]\\\n",
    "\\\n",
    "\\"
   ]
  },
  {
   "cell_type": "code",
   "execution_count": null,
   "metadata": {},
   "outputs": [],
   "source": []
  }
 ],
 "metadata": {
  "kernelspec": {
   "display_name": "Python 3",
   "language": "python",
   "name": "python3"
  },
  "language_info": {
   "codemirror_mode": {
    "name": "ipython",
    "version": 3
   },
   "file_extension": ".py",
   "mimetype": "text/x-python",
   "name": "python",
   "nbconvert_exporter": "python",
   "pygments_lexer": "ipython3",
   "version": "3.6.5"
  }
 },
 "nbformat": 4,
 "nbformat_minor": 4
}
