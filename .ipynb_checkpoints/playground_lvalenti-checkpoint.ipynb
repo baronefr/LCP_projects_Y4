{
 "cells": [
  {
   "cell_type": "markdown",
   "metadata": {},
   "source": [
    "# Personal playground for LCP project\n",
    "### L Valenti\n",
    "\n",
    "##### UniPD, AY 2021/22"
   ]
  },
  {
   "cell_type": "code",
   "execution_count": 1,
   "metadata": {},
   "outputs": [],
   "source": [
    "import pandas as pd\n",
    "import numpy as np\n",
    "import matplotlib.pyplot as plt"
   ]
  },
  {
   "cell_type": "markdown",
   "metadata": {},
   "source": [
    "# Assignment\n",
    "\n",
    "Part 0\n",
    "\n",
    "    Group the hits (rows) by orbits, identify and create events, excluding the external trigger information (for the moment). An event must be a collection of hits expressed in terms of coordinates (chamber, layer, cell) and position within the cell (with the left-right ambiguity NOT resolved).\n",
    "    Verify graphically that the hits in the events align in a pattern similar to the one displayed in the picture above (just few events, for validation purposes)."
   ]
  },
  {
   "cell_type": "markdown",
   "metadata": {},
   "source": [
    "# Rules\n",
    "\\\n",
    "HEAD: always 1 (useless)\\\n",
    "FPGA: 0 or 1\\\n",
    "TDC_CHANNEL: in the range 1-128, special values are present too (137, 138, 139)\\\n",
    "ORB_CNT: in the range 0-2^32\\\n",
    "BX: in the range 0-3564\\\n",
    "TDC_MEAS: in the range 1-30\\\n",
    "\\\n",
    "\\\n",
    "Detector 1 \\\n",
    "FPGA 0, TDC_CHANNEL in [1-64]\\\n",
    "\\\n",
    "Detector 2\\\n",
    "FPGA 0, TDC_CHANNEL in [65-128]\\\n",
    "\\\n",
    "Detector 3\\\n",
    "FPGA 1, TDC_CHANNEL in [1-64]\\\n",
    "\\\n",
    "Detector 4\\\n",
    "FPGA 1, TDC_CHANNEL in [65-128]\\\n",
    "\\\n",
    "\\"
   ]
  },
  {
   "cell_type": "code",
   "execution_count": null,
   "metadata": {},
   "outputs": [],
   "source": [
    "# Loading the dataset\n",
    "\n",
    "file_name='.txt'\n",
    "df = pd.read_csv(file_name)#.head(N)\n",
    "df\n"
   ]
  },
  {
   "cell_type": "code",
   "execution_count": null,
   "metadata": {},
   "outputs": [],
   "source": [
    "# Calculating the time in nanoseconds, eventually starting from 0.\n",
    "\n",
    "tstart=df['ORBIT_CNT'][0]*25*3564+df['BX_COUNTER'][0]*25+df['TDC_MEAS'][0]*25/30\n",
    "df_ns=df.copy()\n",
    "df_ns['ns']=df_ns['ORBIT_CNT']*25*3564+df_ns['BX_COUNTER']*25+df_ns['TDC_MEAS']*25/30#-tstart\n"
   ]
  },
  {
   "cell_type": "code",
   "execution_count": null,
   "metadata": {},
   "outputs": [],
   "source": [
    "# Creating 4 dataframes for the 4 detectors.\n",
    "\n",
    "df_detector1=df[(df['FPGA'] == 0) & (df['TDC_CHANNEL'] < 65)]\n",
    "df_detector2=df[(df['FPGA'] == 0) & (df['TDC_CHANNEL'] > 64) & (df['TDC_CHANNEL'] < 129)]\n",
    "df_detector3=df[(df['FPGA'] == 1) & (df['TDC_CHANNEL'] < 65)]\n",
    "df_detector4=df[(df['FPGA'] == 1) & (df['TDC_CHANNEL'] > 64) & (df['TDC_CHANNEL'] < 129)]\n"
   ]
  },
  {
   "cell_type": "code",
   "execution_count": null,
   "metadata": {},
   "outputs": [],
   "source": [
    "# Creating 2 dataframes for the 2 FPGAs.\n",
    "\n",
    "df_pga0=df[(df['FPGA'] == 0)]\n",
    "df_pga1=df[(df['FPGA'] == 1)]\n"
   ]
  }
 ],
 "metadata": {
  "kernelspec": {
   "display_name": "Python 3",
   "language": "python",
   "name": "python3"
  },
  "language_info": {
   "codemirror_mode": {
    "name": "ipython",
    "version": 3
   },
   "file_extension": ".py",
   "mimetype": "text/x-python",
   "name": "python",
   "nbconvert_exporter": "python",
   "pygments_lexer": "ipython3",
   "version": "3.6.5"
  }
 },
 "nbformat": 4,
 "nbformat_minor": 4
}
